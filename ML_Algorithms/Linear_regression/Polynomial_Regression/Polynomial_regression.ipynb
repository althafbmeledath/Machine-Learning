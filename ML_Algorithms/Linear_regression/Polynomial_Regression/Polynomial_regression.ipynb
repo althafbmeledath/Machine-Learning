{
 "cells": [
  {
   "cell_type": "code",
   "execution_count": 2,
   "metadata": {},
   "outputs": [],
   "source": [
    "import numpy as np\n",
    "import matplotlib.pyplot as plt\n",
    "from sklearn.model_selection import train_test_split\n",
    "from sklearn.linear_model import LinearRegression,SGDRegressor\n",
    "from sklearn.preprocessing import StandardScaler,PolynomialFeatures\n",
    "from sklearn.metrics import r2_score\n",
    "from sklearn.pipeline import Pipeline"
   ]
  },
  {
   "cell_type": "code",
   "execution_count": 11,
   "metadata": {},
   "outputs": [],
   "source": [
    "X=6*np.random.rand(200,1)-3\n",
    "y=0.8*X**2+0.9*X+2+np.random.rand(200,1)"
   ]
  },
  {
   "cell_type": "code",
   "execution_count": 13,
   "metadata": {},
   "outputs": [
    {
     "data": {
      "image/png": "[encoded data removed]",
      "text/plain": [
       "<Figure size 640x480 with 1 Axes>"
      ]
     },
     "metadata": {},
     "output_type": "display_data"
    }
   ],
   "source": [
    "plt.plot(X,y,'b.')\n",
    "plt.xlabel('X')\n",
    "plt.ylabel('y')\n",
    "plt.show()"
   ]
  },
  {
   "cell_type": "code",
   "execution_count": 15,
   "metadata": {},
   "outputs": [],
   "source": [
    "X_train,X_test,y_train,y_test=train_test_split(X,y,test_size=0.2,random_state=2)"
   ]
  },
  {
   "cell_type": "code",
   "execution_count": 43,
   "metadata": {},
   "outputs": [
    {
     "data": {
      "text/plain": [
       "array([[-1.56869601],\n",
       "       [ 1.17780314],\n",
       "       [ 0.74773774],\n",
       "       [ 0.56971257],\n",
       "       [ 0.26400654],\n",
       "       [-0.66710003],\n",
       "       [-1.79946049],\n",
       "       [-2.15597616],\n",
       "       [-0.74903765],\n",
       "       [-0.0149551 ],\n",
       "       [ 1.72353427],\n",
       "       [-0.65592289],\n",
       "       [ 1.5140162 ],\n",
       "       [ 1.50533721],\n",
       "       [ 2.21141295],\n",
       "       [ 1.72068326],\n",
       "       [ 2.47273162],\n",
       "       [-2.42189515],\n",
       "       [-0.11347834],\n",
       "       [-2.9194347 ],\n",
       "       [-0.95765826],\n",
       "       [-2.85146142],\n",
       "       [ 2.85352027],\n",
       "       [-2.99924131],\n",
       "       [-0.36928158],\n",
       "       [-0.27190513],\n",
       "       [ 0.69840258],\n",
       "       [ 2.30444319],\n",
       "       [-1.60736826],\n",
       "       [ 1.68429638],\n",
       "       [ 0.16531006],\n",
       "       [-1.60330652],\n",
       "       [ 2.43914164],\n",
       "       [-1.03357181],\n",
       "       [ 0.17280103],\n",
       "       [-0.72742869],\n",
       "       [ 2.61807872],\n",
       "       [-2.17010867],\n",
       "       [ 2.82227359],\n",
       "       [-1.78723597],\n",
       "       [-2.2759201 ],\n",
       "       [-1.84896595],\n",
       "       [ 2.72076959],\n",
       "       [ 2.86003201],\n",
       "       [ 0.88483996],\n",
       "       [ 0.9761546 ],\n",
       "       [ 0.05431461],\n",
       "       [ 2.55553854],\n",
       "       [ 0.48915969],\n",
       "       [-0.31416925],\n",
       "       [ 2.57349632],\n",
       "       [ 1.29261976],\n",
       "       [ 0.09491823],\n",
       "       [ 2.96777391],\n",
       "       [ 2.34740955],\n",
       "       [-1.17082376],\n",
       "       [ 0.49507598],\n",
       "       [-1.56081032],\n",
       "       [ 2.53106785],\n",
       "       [ 0.26053654],\n",
       "       [-2.44644367],\n",
       "       [ 1.76805037],\n",
       "       [-0.61076161],\n",
       "       [-1.04492972],\n",
       "       [-0.37187554],\n",
       "       [ 2.86370218],\n",
       "       [-0.51052931],\n",
       "       [-2.75327566],\n",
       "       [ 2.53836555],\n",
       "       [ 2.79327011],\n",
       "       [-1.09390044],\n",
       "       [ 0.40678475],\n",
       "       [-2.42483959],\n",
       "       [-2.84260288],\n",
       "       [ 0.24950672],\n",
       "       [ 0.08646351],\n",
       "       [-0.61194549],\n",
       "       [ 1.97391224],\n",
       "       [ 0.33903237],\n",
       "       [-0.38760332],\n",
       "       [ 0.98770826],\n",
       "       [ 2.7646532 ],\n",
       "       [-0.8821036 ],\n",
       "       [ 2.04278827],\n",
       "       [ 1.57150481],\n",
       "       [ 0.17034175],\n",
       "       [ 1.02064736],\n",
       "       [ 0.01760772],\n",
       "       [-1.13346357],\n",
       "       [ 0.27280181],\n",
       "       [ 1.00224187],\n",
       "       [-0.17036503],\n",
       "       [-0.41413712],\n",
       "       [-0.41764865],\n",
       "       [ 0.44144816],\n",
       "       [-0.0139737 ],\n",
       "       [-0.06289871],\n",
       "       [ 0.62968817],\n",
       "       [ 2.0114329 ],\n",
       "       [-0.54043916],\n",
       "       [ 1.07606947],\n",
       "       [-0.27371482],\n",
       "       [-2.44652454],\n",
       "       [ 0.91398922],\n",
       "       [ 2.4099022 ],\n",
       "       [-0.90463267],\n",
       "       [ 0.26294918],\n",
       "       [-0.94488723],\n",
       "       [ 1.10794527],\n",
       "       [ 1.74054455],\n",
       "       [-0.17433081],\n",
       "       [-0.57019536],\n",
       "       [ 2.11620944],\n",
       "       [ 2.94425288],\n",
       "       [-0.66672081],\n",
       "       [-0.95257249],\n",
       "       [ 1.37128497],\n",
       "       [ 2.60015305],\n",
       "       [ 1.33627391],\n",
       "       [-0.62984517],\n",
       "       [-0.89740252],\n",
       "       [ 0.01996551],\n",
       "       [-1.91731949],\n",
       "       [-0.57281823],\n",
       "       [-2.60610906],\n",
       "       [-0.5734603 ],\n",
       "       [ 0.29933984],\n",
       "       [ 1.47575335],\n",
       "       [-2.74276625],\n",
       "       [-0.03361292],\n",
       "       [ 1.00486374],\n",
       "       [ 2.63658512],\n",
       "       [ 1.48284454],\n",
       "       [-1.5600983 ],\n",
       "       [ 1.20906695],\n",
       "       [-0.37397185],\n",
       "       [ 2.78742362],\n",
       "       [ 2.08417267],\n",
       "       [ 2.43561525],\n",
       "       [-0.34602592],\n",
       "       [ 2.41187922],\n",
       "       [ 1.75693014],\n",
       "       [ 1.86618275],\n",
       "       [-2.04285675],\n",
       "       [-2.88302409],\n",
       "       [ 0.00452824],\n",
       "       [ 2.32855686],\n",
       "       [-1.04639451],\n",
       "       [-2.03311032],\n",
       "       [ 2.20126668],\n",
       "       [ 1.56724035],\n",
       "       [-1.09763327],\n",
       "       [ 0.10916625],\n",
       "       [-0.04525912],\n",
       "       [ 2.53055234],\n",
       "       [-1.60669296],\n",
       "       [-2.04332698],\n",
       "       [-0.53008931],\n",
       "       [-0.24438533],\n",
       "       [ 1.86897509],\n",
       "       [ 1.77166608],\n",
       "       [-1.90591803],\n",
       "       [-0.32037892],\n",
       "       [ 0.07086619],\n",
       "       [-1.53301212],\n",
       "       [ 0.34150702],\n",
       "       [ 1.43732942],\n",
       "       [-1.23905044],\n",
       "       [ 1.79608481],\n",
       "       [ 0.908462  ],\n",
       "       [ 1.22531755],\n",
       "       [ 2.24278981],\n",
       "       [-1.89877433],\n",
       "       [ 0.23684039],\n",
       "       [ 0.36078573],\n",
       "       [ 0.85752512],\n",
       "       [ 2.7083678 ],\n",
       "       [ 1.35723655],\n",
       "       [ 2.00891431],\n",
       "       [ 2.56481958],\n",
       "       [-1.1513536 ],\n",
       "       [ 1.59094817],\n",
       "       [ 0.89682221],\n",
       "       [-1.58811151],\n",
       "       [ 2.18642809],\n",
       "       [-0.67411887],\n",
       "       [-1.15188704],\n",
       "       [-1.66886517],\n",
       "       [ 2.86108784],\n",
       "       [-0.15217864],\n",
       "       [ 0.93828288],\n",
       "       [-0.92373145],\n",
       "       [-1.43137232],\n",
       "       [-1.73511615],\n",
       "       [ 2.89556343],\n",
       "       [ 1.03449339],\n",
       "       [-1.48387228],\n",
       "       [ 0.125371  ],\n",
       "       [-0.04072994],\n",
       "       [ 0.00408336]])"
      ]
     },
     "execution_count": 43,
     "metadata": {},
     "output_type": "execute_result"
    }
   ],
   "source": []
  },
  {
   "cell_type": "code",
   "execution_count": 14,
   "metadata": {},
   "outputs": [],
   "source": [
    "#Apply normal linear regression\n",
    "lr=LinearRegression()"
   ]
  },
  {
   "cell_type": "code",
   "execution_count": 16,
   "metadata": {},
   "outputs": [
    {
     "data": {
      "text/html": [
       "<style>#sk-container-id-1 {color: black;background-color: white;}#sk-container-id-1 pre{padding: 0;}#sk-container-id-1 div.sk-toggleable {background-color: white;}#sk-container-id-1 label.sk-toggleable__label {cursor: pointer;display: block;width: 100%;margin-bottom: 0;padding: 0.3em;box-sizing: border-box;text-align: center;}#sk-container-id-1 label.sk-toggleable__label-arrow:before {content: \"▸\";float: left;margin-right: 0.25em;color: #696969;}#sk-container-id-1 label.sk-toggleable__label-arrow:hover:before {color: black;}#sk-container-id-1 div.sk-estimator:hover label.sk-toggleable__label-arrow:before {color: black;}#sk-container-id-1 div.sk-toggleable__content {max-height: 0;max-width: 0;overflow: hidden;text-align: left;background-color: #f0f8ff;}#sk-container-id-1 div.sk-toggleable__content pre {margin: 0.2em;color: black;border-radius: 0.25em;background-color: #f0f8ff;}#sk-container-id-1 input.sk-toggleable__control:checked~div.sk-toggleable__content {max-height: 200px;max-width: 100%;overflow: auto;}#sk-container-id-1 input.sk-toggleable__control:checked~label.sk-toggleable__label-arrow:before {content: \"▾\";}#sk-container-id-1 div.sk-estimator input.sk-toggleable__control:checked~label.sk-toggleable__label {background-color: #d4ebff;}#sk-container-id-1 div.sk-label input.sk-toggleable__control:checked~label.sk-toggleable__label {background-color: #d4ebff;}#sk-container-id-1 input.sk-hidden--visually {border: 0;clip: rect(1px 1px 1px 1px);clip: rect(1px, 1px, 1px, 1px);height: 1px;margin: -1px;overflow: hidden;padding: 0;position: absolute;width: 1px;}#sk-container-id-1 div.sk-estimator {font-family: monospace;background-color: #f0f8ff;border: 1px dotted black;border-radius: 0.25em;box-sizing: border-box;margin-bottom: 0.5em;}#sk-container-id-1 div.sk-estimator:hover {background-color: #d4ebff;}#sk-container-id-1 div.sk-parallel-item::after {content: \"\";width: 100%;border-bottom: 1px solid gray;flex-grow: 1;}#sk-container-id-1 div.sk-label:hover label.sk-toggleable__label {background-color: #d4ebff;}#sk-container-id-1 div.sk-serial::before {content: \"\";position: absolute;border-left: 1px solid gray;box-sizing: border-box;top: 0;bottom: 0;left: 50%;z-index: 0;}#sk-container-id-1 div.sk-serial {display: flex;flex-direction: column;align-items: center;background-color: white;padding-right: 0.2em;padding-left: 0.2em;position: relative;}#sk-container-id-1 div.sk-item {position: relative;z-index: 1;}#sk-container-id-1 div.sk-parallel {display: flex;align-items: stretch;justify-content: center;background-color: white;position: relative;}#sk-container-id-1 div.sk-item::before, #sk-container-id-1 div.sk-parallel-item::before {content: \"\";position: absolute;border-left: 1px solid gray;box-sizing: border-box;top: 0;bottom: 0;left: 50%;z-index: -1;}#sk-container-id-1 div.sk-parallel-item {display: flex;flex-direction: column;z-index: 1;position: relative;background-color: white;}#sk-container-id-1 div.sk-parallel-item:first-child::after {align-self: flex-end;width: 50%;}#sk-container-id-1 div.sk-parallel-item:last-child::after {align-self: flex-start;width: 50%;}#sk-container-id-1 div.sk-parallel-item:only-child::after {width: 0;}#sk-container-id-1 div.sk-dashed-wrapped {border: 1px dashed gray;margin: 0 0.4em 0.5em 0.4em;box-sizing: border-box;padding-bottom: 0.4em;background-color: white;}#sk-container-id-1 div.sk-label label {font-family: monospace;font-weight: bold;display: inline-block;line-height: 1.2em;}#sk-container-id-1 div.sk-label-container {text-align: center;}#sk-container-id-1 div.sk-container {/* jupyter's `normalize.less` sets `[hidden] { display: none; }` but bootstrap.min.css set `[hidden] { display: none !important; }` so we also need the `!important` here to be able to override the default hidden behavior on the sphinx rendered scikit-learn.org. See: https://github.com/scikit-learn/scikit-learn/issues/21755 */display: inline-block !important;position: relative;}#sk-container-id-1 div.sk-text-repr-fallback {display: none;}</style><div id=\"sk-container-id-1\" class=\"sk-top-container\"><div class=\"sk-text-repr-fallback\"><pre>LinearRegression()</pre><b>In a Jupyter environment, please rerun this cell to show the HTML representation or trust the notebook. <br />On GitHub, the HTML representation is unable to render, please try loading this page with nbviewer.org.</b></div><div class=\"sk-container\" hidden><div class=\"sk-item\"><div class=\"sk-estimator sk-toggleable\"><input class=\"sk-toggleable__control sk-hidden--visually\" id=\"sk-estimator-id-1\" type=\"checkbox\" checked><label for=\"sk-estimator-id-1\" class=\"sk-toggleable__label sk-toggleable__label-arrow\">LinearRegression</label><div class=\"sk-toggleable__content\"><pre>LinearRegression()</pre></div></div></div></div></div>"
      ],
      "text/plain": [
       "LinearRegression()"
      ]
     },
     "execution_count": 16,
     "metadata": {},
     "output_type": "execute_result"
    }
   ],
   "source": [
    "lr.fit(X_train,y_train)"
   ]
  },
  {
   "cell_type": "code",
   "execution_count": 17,
   "metadata": {},
   "outputs": [],
   "source": [
    "y_pred=lr.predict(X_test)"
   ]
  },
  {
   "cell_type": "code",
   "execution_count": 18,
   "metadata": {},
   "outputs": [
    {
     "data": {
      "image/png": "[encoded data removed]",
      "text/plain": [
       "<Figure size 640x480 with 1 Axes>"
      ]
     },
     "metadata": {},
     "output_type": "display_data"
    }
   ],
   "source": [
    "plt.plot(X,y,'b.')\n",
    "plt.plot(X_test,lr.predict(X_test),'r')\n",
    "plt.xlabel('X')\n",
    "plt.ylabel('y')\n",
    "plt.show()"
   ]
  },
  {
   "cell_type": "code",
   "execution_count": 19,
   "metadata": {},
   "outputs": [
    {
     "name": "stdout",
     "output_type": "stream",
     "text": [
      "The r2 score is 0.42938038530932665\n"
     ]
    }
   ],
   "source": [
    "print(f'The r2 score is {r2_score(y_test,y_pred)}')"
   ]
  },
  {
   "attachments": {},
   "cell_type": "markdown",
   "metadata": {},
   "source": [
    "Applying Polynomial Linear Regression"
   ]
  },
  {
   "cell_type": "code",
   "execution_count": 20,
   "metadata": {},
   "outputs": [],
   "source": [
    "poly=PolynomialFeatures(degree=2)"
   ]
  },
  {
   "cell_type": "code",
   "execution_count": 21,
   "metadata": {},
   "outputs": [],
   "source": [
    "X_train_transform=poly.fit_transform(X_train)\n",
    "X_test_transform=poly.transform(X_test)"
   ]
  },
  {
   "cell_type": "code",
   "execution_count": 22,
   "metadata": {},
   "outputs": [],
   "source": [
    "lr1=LinearRegression()"
   ]
  },
  {
   "cell_type": "code",
   "execution_count": 24,
   "metadata": {},
   "outputs": [
    {
     "data": {
      "text/html": [
       "<style>#sk-container-id-2 {color: black;background-color: white;}#sk-container-id-2 pre{padding: 0;}#sk-container-id-2 div.sk-toggleable {background-color: white;}#sk-container-id-2 label.sk-toggleable__label {cursor: pointer;display: block;width: 100%;margin-bottom: 0;padding: 0.3em;box-sizing: border-box;text-align: center;}#sk-container-id-2 label.sk-toggleable__label-arrow:before {content: \"▸\";float: left;margin-right: 0.25em;color: #696969;}#sk-container-id-2 label.sk-toggleable__label-arrow:hover:before {color: black;}#sk-container-id-2 div.sk-estimator:hover label.sk-toggleable__label-arrow:before {color: black;}#sk-container-id-2 div.sk-toggleable__content {max-height: 0;max-width: 0;overflow: hidden;text-align: left;background-color: #f0f8ff;}#sk-container-id-2 div.sk-toggleable__content pre {margin: 0.2em;color: black;border-radius: 0.25em;background-color: #f0f8ff;}#sk-container-id-2 input.sk-toggleable__control:checked~div.sk-toggleable__content {max-height: 200px;max-width: 100%;overflow: auto;}#sk-container-id-2 input.sk-toggleable__control:checked~label.sk-toggleable__label-arrow:before {content: \"▾\";}#sk-container-id-2 div.sk-estimator input.sk-toggleable__control:checked~label.sk-toggleable__label {background-color: #d4ebff;}#sk-container-id-2 div.sk-label input.sk-toggleable__control:checked~label.sk-toggleable__label {background-color: #d4ebff;}#sk-container-id-2 input.sk-hidden--visually {border: 0;clip: rect(1px 1px 1px 1px);clip: rect(1px, 1px, 1px, 1px);height: 1px;margin: -1px;overflow: hidden;padding: 0;position: absolute;width: 1px;}#sk-container-id-2 div.sk-estimator {font-family: monospace;background-color: #f0f8ff;border: 1px dotted black;border-radius: 0.25em;box-sizing: border-box;margin-bottom: 0.5em;}#sk-container-id-2 div.sk-estimator:hover {background-color: #d4ebff;}#sk-container-id-2 div.sk-parallel-item::after {content: \"\";width: 100%;border-bottom: 1px solid gray;flex-grow: 1;}#sk-container-id-2 div.sk-label:hover label.sk-toggleable__label {background-color: #d4ebff;}#sk-container-id-2 div.sk-serial::before {content: \"\";position: absolute;border-left: 1px solid gray;box-sizing: border-box;top: 0;bottom: 0;left: 50%;z-index: 0;}#sk-container-id-2 div.sk-serial {display: flex;flex-direction: column;align-items: center;background-color: white;padding-right: 0.2em;padding-left: 0.2em;position: relative;}#sk-container-id-2 div.sk-item {position: relative;z-index: 1;}#sk-container-id-2 div.sk-parallel {display: flex;align-items: stretch;justify-content: center;background-color: white;position: relative;}#sk-container-id-2 div.sk-item::before, #sk-container-id-2 div.sk-parallel-item::before {content: \"\";position: absolute;border-left: 1px solid gray;box-sizing: border-box;top: 0;bottom: 0;left: 50%;z-index: -1;}#sk-container-id-2 div.sk-parallel-item {display: flex;flex-direction: column;z-index: 1;position: relative;background-color: white;}#sk-container-id-2 div.sk-parallel-item:first-child::after {align-self: flex-end;width: 50%;}#sk-container-id-2 div.sk-parallel-item:last-child::after {align-self: flex-start;width: 50%;}#sk-container-id-2 div.sk-parallel-item:only-child::after {width: 0;}#sk-container-id-2 div.sk-dashed-wrapped {border: 1px dashed gray;margin: 0 0.4em 0.5em 0.4em;box-sizing: border-box;padding-bottom: 0.4em;background-color: white;}#sk-container-id-2 div.sk-label label {font-family: monospace;font-weight: bold;display: inline-block;line-height: 1.2em;}#sk-container-id-2 div.sk-label-container {text-align: center;}#sk-container-id-2 div.sk-container {/* jupyter's `normalize.less` sets `[hidden] { display: none; }` but bootstrap.min.css set `[hidden] { display: none !important; }` so we also need the `!important` here to be able to override the default hidden behavior on the sphinx rendered scikit-learn.org. See: https://github.com/scikit-learn/scikit-learn/issues/21755 */display: inline-block !important;position: relative;}#sk-container-id-2 div.sk-text-repr-fallback {display: none;}</style><div id=\"sk-container-id-2\" class=\"sk-top-container\"><div class=\"sk-text-repr-fallback\"><pre>LinearRegression()</pre><b>In a Jupyter environment, please rerun this cell to show the HTML representation or trust the notebook. <br />On GitHub, the HTML representation is unable to render, please try loading this page with nbviewer.org.</b></div><div class=\"sk-container\" hidden><div class=\"sk-item\"><div class=\"sk-estimator sk-toggleable\"><input class=\"sk-toggleable__control sk-hidden--visually\" id=\"sk-estimator-id-2\" type=\"checkbox\" checked><label for=\"sk-estimator-id-2\" class=\"sk-toggleable__label sk-toggleable__label-arrow\">LinearRegression</label><div class=\"sk-toggleable__content\"><pre>LinearRegression()</pre></div></div></div></div></div>"
      ],
      "text/plain": [
       "LinearRegression()"
      ]
     },
     "execution_count": 24,
     "metadata": {},
     "output_type": "execute_result"
    }
   ],
   "source": [
    "lr1.fit(X_train_transform,y_train)"
   ]
  },
  {
   "cell_type": "code",
   "execution_count": 26,
   "metadata": {},
   "outputs": [],
   "source": [
    "y_pred1=lr1.predict(X_test_transform)"
   ]
  },
  {
   "cell_type": "code",
   "execution_count": 27,
   "metadata": {},
   "outputs": [
    {
     "name": "stdout",
     "output_type": "stream",
     "text": [
      "The r2 score is 0.9891122212567325\n"
     ]
    }
   ],
   "source": [
    "print(f'The r2 score is {r2_score(y_test,y_pred1)}')"
   ]
  },
  {
   "cell_type": "code",
   "execution_count": 28,
   "metadata": {},
   "outputs": [],
   "source": [
    "X_new=np.linspace(-3,3,200).reshape(200,1)\n",
    "X_new_transfrom=poly.transform(X_new)\n",
    "y_new=lr1.predict(X_new_transfrom)"
   ]
  },
  {
   "cell_type": "code",
   "execution_count": 47,
   "metadata": {},
   "outputs": [
    {
     "data": {
      "image/png": "[encoded data removed]",
      "text/plain": [
       "<Figure size 640x480 with 1 Axes>"
      ]
     },
     "metadata": {},
     "output_type": "display_data"
    }
   ],
   "source": [
    "plt.plot(X_train,y_train,'b.',label='Training points')\n",
    "plt.plot(X_new,y_new,'r',linewidth=2,label='Predictions')\n",
    "plt.legend()\n",
    "plt.show()"
   ]
  }
 ],
 "metadata": {
  "kernelspec": {
   "display_name": "Python 3",
   "language": "python",
   "name": "python3"
  },
  "language_info": {
   "codemirror_mode": {
    "name": "ipython",
    "version": 3
   },
   "file_extension": ".py",
   "mimetype": "text/x-python",
   "name": "python",
   "nbconvert_exporter": "python",
   "pygments_lexer": "ipython3",
   "version": "3.9.0"
  },
  "orig_nbformat": 4
 },
 "nbformat": 4,
 "nbformat_minor": 2
}
